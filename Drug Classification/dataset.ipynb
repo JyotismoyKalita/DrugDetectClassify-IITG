{
 "cells": [
  {
   "cell_type": "markdown",
   "id": "aa49a558",
   "metadata": {},
   "source": [
    "# Drug ATC Classification"
   ]
  },
  {
   "cell_type": "markdown",
   "id": "1a3d52b6",
   "metadata": {},
   "source": [
    "Creating the Drug-Atc pair dataset"
   ]
  },
  {
   "cell_type": "code",
   "execution_count": 2,
   "id": "53cb253d",
   "metadata": {},
   "outputs": [
    {
     "name": "stdout",
     "output_type": "stream",
     "text": [
      "✅ Saved: Dataset/drug-atc/dataset.csv and Dataset/atc/dataset.csv\n",
      "Final dataset size: 2053 samples, 13 ATC classes\n"
     ]
    }
   ],
   "source": [
    "import pandas as pd\n",
    "\n",
    "input_file = 'Data/chembl/drugs.csv'\n",
    "output_file = 'Dataset/drug-atc/dataset.csv'\n",
    "atc_mapping_file = 'Dataset/atc/dataset.csv'\n",
    "\n",
    "# Load your ChEMBL CSV file (update the path accordingly)\n",
    "df = pd.read_csv(input_file, sep=';', encoding='utf-8')\n",
    "\n",
    "# Extract relevant columns\n",
    "df_subset = df[[\"Smiles\", \"Level 1 ATC Codes\"]].copy()\n",
    "\n",
    "# Drop rows with missing values\n",
    "df_subset.dropna(inplace=True)\n",
    "\n",
    "# Split multiple ATC Level 1 codes and explode into rows\n",
    "df_exploded = df_subset.assign(\n",
    "    atc_level1=df_subset[\"Level 1 ATC Codes\"].str.split(\" \\| \")\n",
    ").explode(\"atc_level1\")\n",
    "\n",
    "# Keep only SMILES and ATC Level 1 code columns\n",
    "final_df = df_exploded[[\"Smiles\", \"atc_level1\"]].rename(columns={\"Smiles\": \"smiles\"})\n",
    "\n",
    "# Step 4: Encode 'atc_level1' into numeric values\n",
    "unique_atcs = sorted(final_df[\"atc_level1\"].unique())\n",
    "atc_to_num = {atc: idx for idx, atc in enumerate(unique_atcs)}\n",
    "final_df[\"atc_numeric\"] = final_df[\"atc_level1\"].map(atc_to_num)\n",
    "#final_df.drop_duplicates(subset=[\"smiles\"], inplace=True)\n",
    "\n",
    "# Filter out ATC code 'V'\n",
    "final_df = final_df[~final_df['atc_level1'].str.contains(\"V - VARIOUS\")]\n",
    "\n",
    "'''\n",
    "# Remove drugs with multiple Level 1 ATC codes\n",
    "counts = df_exploded.groupby('Smiles')[\"atc_level1\"].nunique()\n",
    "single_label_smiles = counts[counts == 1].index\n",
    "final_df = final_df[final_df[\"smiles\"].isin(single_label_smiles)]\n",
    "'''\n",
    "\n",
    "# OPTIONAL: Remove common salt patterns (simplified example)\n",
    "final_df = final_df[~final_df[\"smiles\"].str.contains(r\"(?:Cl|Na|HCl|Br|SO4)\", regex=True)]\n",
    "\n",
    "# OPTIONAL: Remove singleton ATC classes\n",
    "counts = final_df[\"atc_level1\"].value_counts()\n",
    "valid_classes = counts[counts > 1].index\n",
    "final_df = final_df[final_df[\"atc_level1\"].isin(valid_classes)]\n",
    "\n",
    "# Step 5: Save combined dataset and mapping\n",
    "final_df.to_csv(output_file, index=False)\n",
    "\n",
    "# Save mapping separately\n",
    "used_atcs = final_df[\"atc_level1\"].unique()\n",
    "atc_mapping_df = pd.DataFrame({\n",
    "    \"atc_level1\": used_atcs,\n",
    "    \"atc_numeric\": [atc_to_num[a] for a in used_atcs]\n",
    "}).set_index(\"atc_level1\")\n",
    "atc_mapping_df.to_csv(atc_mapping_file)\n",
    "\n",
    "print(f\"✅ Saved: {output_file} and {atc_mapping_file}\")\n",
    "\n",
    "# Save or inspect\n",
    "print(f\"Final dataset size: {len(final_df)} samples, {len(valid_classes)} ATC classes\")\n",
    "\n"
   ]
  },
  {
   "cell_type": "markdown",
   "id": "123407fd",
   "metadata": {},
   "source": [
    "## Final Dataset\n",
    "\n",
    "Extracting ECFP4 Features"
   ]
  },
  {
   "cell_type": "code",
   "execution_count": 3,
   "id": "bbf5df51",
   "metadata": {},
   "outputs": [
    {
     "name": "stderr",
     "output_type": "stream",
     "text": [
      "c:\\Users\\jyoti\\Anaconda3\\envs\\drug-detection\\lib\\site-packages\\tqdm\\auto.py:21: TqdmWarning: IProgress not found. Please update jupyter and ipywidgets. See https://ipywidgets.readthedocs.io/en/stable/user_install.html\n",
      "  from .autonotebook import tqdm as notebook_tqdm\n"
     ]
    },
    {
     "name": "stdout",
     "output_type": "stream",
     "text": [
      "🧬 Calculating ECFP4 …\n",
      "✅ Saved final dataset (2010, 2049) → Dataset/final/dataset.csv\n"
     ]
    }
   ],
   "source": [
    "import pandas as pd, numpy as np\n",
    "from rdkit import Chem\n",
    "from rdkit.Chem import MACCSkeys\n",
    "import rdkit.DataStructs as ds\n",
    "from rdkit.Chem.rdFingerprintGenerator import GetMorganGenerator\n",
    "from Mold2_pywrapper import Mold2          # <- make sure wrapper is installed\n",
    "\n",
    "# ---------- paths ----------\n",
    "input_file   = \"Dataset/drug-atc/dataset.csv\"   # smiles | atc_numeric | label\n",
    "output_file  = \"Dataset/final/dataset.csv\"\n",
    "\n",
    "ecfp_bits  = 2048\n",
    "\n",
    "# ---------- helper ----------\n",
    "def fp_to_array(fp, n_bits):\n",
    "    arr = np.zeros((n_bits,), dtype=int)\n",
    "    ds.ConvertToNumpyArray(fp, arr)\n",
    "    return arr\n",
    "\n",
    "# ---------- 1. Load combined dataset ----------\n",
    "raw_df = pd.read_csv(input_file, dtype={\"atc_numeric\": int})\n",
    "raw_df.dropna(subset=[\"smiles\"], inplace=True)\n",
    "raw_df = raw_df[~raw_df[\"smiles\"].str.contains(r\"\\.\", regex=True)]  # drop mixtures if desired\n",
    "raw_df.reset_index(drop=True, inplace=True)\n",
    "\n",
    "# ---------- 2. RDKit mols (keep index map) ----------\n",
    "valid_idx, mols = [], []\n",
    "for idx, smi in enumerate(raw_df[\"smiles\"]):\n",
    "    m = Chem.MolFromSmiles(smi)\n",
    "    if m:\n",
    "        valid_idx.append(idx)\n",
    "        mols.append(m)\n",
    "\n",
    "if not mols:\n",
    "    raise ValueError(\"No valid SMILES found!\")\n",
    "\n",
    "core_df = raw_df.loc[valid_idx].reset_index(drop=True)   # keep only valid rows\n",
    "\n",
    "# ---------- 4. ECFP4 (Morgan radius 2, 2048 bits) ----------\n",
    "print(\"🧬 Calculating ECFP4 …\")\n",
    "morgan_gen = GetMorganGenerator(\n",
    "    radius=2, fpSize=ecfp_bits,\n",
    "    includeChirality=False, useBondTypes=True\n",
    ")\n",
    "ecfp_mat = [fp_to_array(morgan_gen.GetFingerprint(m), ecfp_bits) for m in mols]\n",
    "ecfp_df  = pd.DataFrame(ecfp_mat, columns=[f\"ECFP4_{i}\" for i in range(ecfp_bits)])\n",
    "\n",
    "# ---------- 6. Assemble final feature table ----------\n",
    "features_df = pd.DataFrame(ecfp_df)\n",
    "\n",
    "# Append numeric ATC code & label\n",
    "features_df[\"label\"] = core_df[\"atc_numeric\"].values\n",
    "\n",
    "# ---------- 7. Clean & save ----------\n",
    "features_df.replace([np.inf, -np.inf], np.nan, inplace=True)\n",
    "features_df.dropna(inplace=True)\n",
    "\n",
    "features_df.to_csv(output_file, index=False)\n",
    "print(f\"✅ Saved final dataset {features_df.shape} → {output_file}\")\n"
   ]
  }
 ],
 "metadata": {
  "kernelspec": {
   "display_name": "drug-detection",
   "language": "python",
   "name": "python3"
  },
  "language_info": {
   "codemirror_mode": {
    "name": "ipython",
    "version": 3
   },
   "file_extension": ".py",
   "mimetype": "text/x-python",
   "name": "python",
   "nbconvert_exporter": "python",
   "pygments_lexer": "ipython3",
   "version": "3.10.18"
  }
 },
 "nbformat": 4,
 "nbformat_minor": 5
}
