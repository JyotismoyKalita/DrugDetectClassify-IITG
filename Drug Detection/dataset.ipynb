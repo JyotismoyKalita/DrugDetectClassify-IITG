{
 "cells": [
  {
   "cell_type": "markdown",
   "id": "9684c75e",
   "metadata": {},
   "source": [
    "## 💊 Drug Detection using Machine Learning\n",
    "\n",
    "An IITG Summer Internship Project"
   ]
  },
  {
   "cell_type": "markdown",
   "id": "f1b37048",
   "metadata": {},
   "source": [
    "## Data Preperation"
   ]
  },
  {
   "cell_type": "markdown",
   "id": "479a66af",
   "metadata": {},
   "source": [
    "### Build NEGATIVE dataset with\n",
    "MolD2 (777) + ECFP4 (2048) + MACCS (166)"
   ]
  },
  {
   "cell_type": "code",
   "execution_count": null,
   "id": "ad5e5d0c",
   "metadata": {},
   "outputs": [
    {
     "name": "stderr",
     "output_type": "stream",
     "text": [
      "c:\\Users\\jyoti\\Anaconda3\\envs\\drug-detection\\lib\\site-packages\\tqdm\\auto.py:21: TqdmWarning: IProgress not found. Please update jupyter and ipywidgets. See https://ipywidgets.readthedocs.io/en/stable/user_install.html\n",
      "  from .autonotebook import tqdm as notebook_tqdm\n"
     ]
    },
    {
     "name": "stdout",
     "output_type": "stream",
     "text": [
      "📥 Reading / sampling source datasets …\n",
      "🔄 Unique SMILES collected: 56,252\n",
      "🔬 Converting SMILES → mols …\n"
     ]
    },
    {
     "name": "stderr",
     "output_type": "stream",
     "text": [
      "MolFromSmiles:  77%|███████▋  | 43325/56252 [00:03<00:01, 12901.37it/s][00:38:27] Explicit valence for atom # 2 Cl, 1, is greater than permitted\n",
      "MolFromSmiles: 100%|██████████| 56252/56252 [00:04<00:00, 12704.56it/s]\n"
     ]
    },
    {
     "name": "stdout",
     "output_type": "stream",
     "text": [
      "✅ Valid mols: 56,251\n",
      "🧪 Calculating MolD2 …\n",
      "Mold2 calculates a large and diverse set of molecular descriptors encoding two-\n",
      "dimensional chemical structure information. Comparative analysis of Mold2 descriptors\n",
      "with those calculated from commercial software on several published datasets\n",
      "demonstrated that Mold2 descriptors convey sufficient structural information. In addition,\n",
      "better models were generated using Mold2 descriptors than the compared commercial\n",
      "software packages. This publicly available software is developed by the Center for\n",
      "Bioinformatics, which is led by Dr. Weida Tong, at the National Center for Toxicological\n",
      "Research (NCTR).\n",
      "    \n",
      "Mold2 is a product designed and produced by the National Center for Toxicological\n",
      "Research (NCTR).  FDA and NCTR retain ownership of this product.\n",
      "\n",
      "Please address any questions or suggestions to Dr. Huixiao Hong, National Center for Toxicological\n",
      "Research, at 870-543-7296 or Huixiao.Hong@fda.hhs.gov.\n",
      "\n",
      "###################################\n",
      "\n",
      "Should you publish results based on the Mold² descriptors, please cite:\n",
      "\n",
      "Mold², Molecular Descriptors from 2D Structures for Chemoinformatics and Toxicoinformatics\n",
      "Huixiao Hong, Qian Xie, Weigong Ge, Feng Qian, Hong Fang, Leming Shi, Zhenqiang Su, Roger Perkins, and Weida Tong\n",
      "Journal of Chemical Information and Modeling 2008 48 (7), 1337-1344\n",
      "DOI: 10.1021/ci800038f\n",
      "\n",
      "###################################\n",
      "\n",
      "\n",
      "🧬 Calculating ECFP4 (2048 bits) …\n"
     ]
    },
    {
     "name": "stderr",
     "output_type": "stream",
     "text": [
      "ECFP4: 100%|██████████| 56251/56251 [00:03<00:00, 16316.36it/s]\n"
     ]
    },
    {
     "name": "stdout",
     "output_type": "stream",
     "text": [
      "🧬 Calculating MACCS (166 bits) …\n"
     ]
    },
    {
     "name": "stderr",
     "output_type": "stream",
     "text": [
      "MACCS: 100%|██████████| 56251/56251 [00:36<00:00, 1552.45it/s]\n"
     ]
    },
    {
     "name": "stdout",
     "output_type": "stream",
     "text": [
      "📦 Combining descriptors …\n",
      "✅ Saved 56,251 negatives → Dataset/negatives/dataset.csv\n"
     ]
    }
   ],
   "source": [
    "\"\"\"\n",
    "Build NEGATIVE dataset with\n",
    "MolD2 (777) + ECFP4 (2048) + MACCS (166)\n",
    "\"\"\"\n",
    "\n",
    "import pandas as pd, numpy as np, random, rdkit\n",
    "from tqdm import tqdm\n",
    "from rdkit import Chem\n",
    "from rdkit.Chem import MACCSkeys\n",
    "import rdkit.DataStructs as ds\n",
    "from Mold2_pywrapper import Mold2\n",
    "\n",
    "# ── CONFIG ────────────────────────────────────────────────────────────\n",
    "dude_path   = \"Data/negatives/dud-e/dude_decoys.csv\"\n",
    "gdb13_path  = \"Data/negatives/gdb13/gdb13_simple_non_drugs.csv\"\n",
    "gdb17_path  = \"Data/negatives/gdb17/GDB17.50000000LL.noSR.smi\"\n",
    "tox21_path  = \"Data/negatives/tox21/tox21_stress_response_toxics.csv\"\n",
    "zinc_path   = \"Data/negatives/zinc20/for-sale.csv\"\n",
    "\n",
    "output_path = \"Dataset/negatives/dataset.csv\"\n",
    "mold2_zip   = \"Tools/Mold2-Executable-File.zip\"\n",
    "\n",
    "sample_dude_n  = 15_000\n",
    "sample_gdb17_n = 15_000\n",
    "ecfp_bits      = 2048\n",
    "maccs_bits     = 166\n",
    "# ───────────────────────────────────────────────────────────────────────\n",
    "\n",
    "\n",
    "def read_smiles_csv(path):\n",
    "    return pd.read_csv(path)[\"smiles\"].dropna().astype(str).tolist()\n",
    "\n",
    "\n",
    "def read_smiles_smi(path, max_lines=None):\n",
    "    smiles = []\n",
    "    with open(path) as fh:\n",
    "        for i, line in enumerate(fh):\n",
    "            if max_lines and i >= max_lines:\n",
    "                break\n",
    "            tok = line.split()\n",
    "            if tok:\n",
    "                smiles.append(tok[0])\n",
    "    return smiles\n",
    "\n",
    "\n",
    "def fp_to_array(fp, n_bits):\n",
    "    arr = np.zeros((n_bits,), dtype=int)\n",
    "    ds.ConvertToNumpyArray(fp, arr)\n",
    "    return arr\n",
    "\n",
    "\n",
    "# ------------ 1.  LOAD & MERGE ---------------------------------------\n",
    "print(\"📥 Reading / sampling source datasets …\")\n",
    "dude  = random.sample(read_smiles_csv(dude_path), sample_dude_n)\n",
    "gdb13 = read_smiles_csv(gdb13_path)\n",
    "gdb17 = read_smiles_smi(gdb17_path, max_lines=sample_gdb17_n)\n",
    "tox21 = read_smiles_csv(tox21_path)\n",
    "zinc  = read_smiles_csv(zinc_path)\n",
    "\n",
    "all_smiles = list({*dude, *gdb13, *gdb17, *tox21, *zinc})\n",
    "print(f\"🔄 Unique SMILES collected: {len(all_smiles):,}\")\n",
    "\n",
    "# ------------ 2.  RDKit Mol objects ----------------------------------\n",
    "print(\"🔬 Converting SMILES → mols …\")\n",
    "mols, smiles_valid = [], []\n",
    "for s in tqdm(all_smiles, desc=\"MolFromSmiles\"):\n",
    "    m = Chem.MolFromSmiles(s)\n",
    "    if m:\n",
    "        mols.append(m)\n",
    "        smiles_valid.append(s)\n",
    "print(f\"✅ Valid mols: {len(mols):,}\")\n",
    "\n",
    "# ------------ 3.  MolD2 descriptors ----------------------------------\n",
    "print(\"🧪 Calculating MolD2 …\")\n",
    "mold2 = Mold2.from_executable(mold2_zip)\n",
    "mold2_df = pd.DataFrame(mold2.calculate(mols))\n",
    "\n",
    "# ------------ 4.  ECFP4 via new MorganGenerator ----------------------\n",
    "print(\"🧬 Calculating ECFP4 (2048 bits) …\")\n",
    "from rdkit.Chem.rdFingerprintGenerator import GetMorganGenerator\n",
    "\n",
    "morgan_gen = GetMorganGenerator(\n",
    "    radius=2,\n",
    "    countSimulation=False,\n",
    "    includeChirality=False,\n",
    "    useBondTypes=True,\n",
    "    onlyNonzeroInvariants=False,\n",
    "    includeRingMembership=True,\n",
    "    fpSize=ecfp_bits\n",
    ")\n",
    "\n",
    "ecfp_mat = [\n",
    "    fp_to_array(morgan_gen.GetFingerprint(m), ecfp_bits)\n",
    "    for m in tqdm(mols, desc=\"ECFP4\")\n",
    "]\n",
    "ecfp_df = pd.DataFrame(ecfp_mat,\n",
    "                       columns=[f\"ECFP4_{i}\" for i in range(ecfp_bits)])\n",
    "\n",
    "# ------------ 5.  MACCS keys -----------------------------------------\n",
    "print(\"🧬 Calculating MACCS (166 bits) …\")\n",
    "maccs_mat = [\n",
    "    fp_to_array(MACCSkeys.GenMACCSKeys(m), 167)[1:]\n",
    "    for m in tqdm(mols, desc=\"MACCS\")\n",
    "]\n",
    "maccs_df = pd.DataFrame(maccs_mat, columns=[f\"MACCS_{i}\" for i in range(166)])\n",
    "\n",
    "# ------------ 6.  MERGE & SAVE ---------------------------------------\n",
    "print(\"📦 Combining descriptors …\")\n",
    "final_df = pd.concat(\n",
    "    [pd.Series(smiles_valid, name=\"smiles\"), mold2_df, ecfp_df, maccs_df],\n",
    "    axis=1\n",
    ")\n",
    "final_df.drop_duplicates(inplace=True)\n",
    "final_df.replace([np.inf, -np.inf], np.nan, inplace=True)\n",
    "final_df.dropna(inplace=True)\n",
    "\n",
    "final_df.to_csv(output_path, index=False)\n",
    "print(f\"✅ Saved {len(final_df):,} negatives → {output_path}\")\n"
   ]
  },
  {
   "cell_type": "markdown",
   "id": "4df62169",
   "metadata": {},
   "source": [
    "### Build POSITIVE dataset with\n",
    "MolD2 (777) + ECFP4 (2048) + MACCS (166)"
   ]
  },
  {
   "cell_type": "code",
   "execution_count": null,
   "id": "a1d3b39d",
   "metadata": {},
   "outputs": [
    {
     "name": "stdout",
     "output_type": "stream",
     "text": [
      "Mold2 calculates a large and diverse set of molecular descriptors encoding two-\n",
      "dimensional chemical structure information. Comparative analysis of Mold2 descriptors\n",
      "with those calculated from commercial software on several published datasets\n",
      "demonstrated that Mold2 descriptors convey sufficient structural information. In addition,\n",
      "better models were generated using Mold2 descriptors than the compared commercial\n",
      "software packages. This publicly available software is developed by the Center for\n",
      "Bioinformatics, which is led by Dr. Weida Tong, at the National Center for Toxicological\n",
      "Research (NCTR).\n",
      "    \n",
      "Mold2 is a product designed and produced by the National Center for Toxicological\n",
      "Research (NCTR).  FDA and NCTR retain ownership of this product.\n",
      "\n",
      "Please address any questions or suggestions to Dr. Huixiao Hong, National Center for Toxicological\n",
      "Research, at 870-543-7296 or Huixiao.Hong@fda.hhs.gov.\n",
      "\n",
      "###################################\n",
      "\n",
      "Should you publish results based on the Mold² descriptors, please cite:\n",
      "\n",
      "Mold², Molecular Descriptors from 2D Structures for Chemoinformatics and Toxicoinformatics\n",
      "Huixiao Hong, Qian Xie, Weigong Ge, Feng Qian, Hong Fang, Leming Shi, Zhenqiang Su, Roger Perkins, and Weida Tong\n",
      "Journal of Chemical Information and Modeling 2008 48 (7), 1337-1344\n",
      "DOI: 10.1021/ci800038f\n",
      "\n",
      "###################################\n",
      "\n",
      "\n",
      "🧬 Calculating ECFP4 …\n",
      "🧬 Calculating MACCS …\n",
      "✅ Saved 5897 molecules with MolD2 + ECFP4 + MACCS → Dataset/positives/dataset.csv\n"
     ]
    }
   ],
   "source": [
    "\"\"\"\n",
    "Build POSITIVE dataset with\n",
    "MolD2 (777) + ECFP4 (2048) + MACCS (166)\n",
    "\"\"\"\n",
    "\n",
    "import pandas as pd, numpy as np\n",
    "from rdkit import Chem\n",
    "from rdkit.Chem import MACCSkeys\n",
    "import rdkit.DataStructs as ds\n",
    "from rdkit.Chem.rdFingerprintGenerator import GetMorganGenerator\n",
    "from Mold2_pywrapper import Mold2\n",
    "\n",
    "# ---------- paths ----------\n",
    "input_file      = \"Data/positives/zinc20/world.csv\"\n",
    "output_path     = \"Dataset/positives/dataset.csv\"\n",
    "mold2_zip       = \"Tools/Mold2-Executable-File.zip\"\n",
    "\n",
    "ecfp_bits  = 2048\n",
    "maccs_bits = 166\n",
    "\n",
    "# ---------- helper ----------\n",
    "def fp_to_array(fp, n_bits):\n",
    "    arr = np.zeros((n_bits,), dtype=int)\n",
    "    ds.ConvertToNumpyArray(fp, arr)\n",
    "    return arr\n",
    "\n",
    "# ---------- load SMILES ----------\n",
    "df = pd.read_csv(input_file)\n",
    "df = df[~df[\"smiles\"].str.contains(\"\\\\.\")].reset_index(drop=True)\n",
    "\n",
    "# RDKit mols (filter out invalid)\n",
    "mols, smiles_valid = [], []\n",
    "for s in df[\"smiles\"]:\n",
    "    m = Chem.MolFromSmiles(s)\n",
    "    if m:\n",
    "        mols.append(m)\n",
    "        smiles_valid.append(s)\n",
    "\n",
    "# ---------- MolD2 ----------\n",
    "mold2 = Mold2.from_executable(mold2_zip)\n",
    "mold2_df = pd.DataFrame(mold2.calculate(mols))\n",
    "\n",
    "# ---------- ECFP4 (Morgan r=2, 2048 bits) ----------\n",
    "print(\"🧬 Calculating ECFP4 …\")\n",
    "morgan_gen = GetMorganGenerator(\n",
    "    radius=2,\n",
    "    countSimulation=False,\n",
    "    includeChirality=False,\n",
    "    useBondTypes=True,\n",
    "    onlyNonzeroInvariants=False,\n",
    "    includeRingMembership=True,\n",
    "    fpSize=ecfp_bits\n",
    ")\n",
    "ecfp_mat = [fp_to_array(morgan_gen.GetFingerprint(m), ecfp_bits) for m in mols]\n",
    "ecfp_df  = pd.DataFrame(ecfp_mat, columns=[f\"ECFP4_{i}\" for i in range(ecfp_bits)])\n",
    "\n",
    "# ---------- MACCS (slice off dummy bit 0) ----------\n",
    "print(\"🧬 Calculating MACCS …\")\n",
    "maccs_mat = [\n",
    "    fp_to_array(MACCSkeys.GenMACCSKeys(m), 167)[1:]   # keep bits 1‑166\n",
    "    for m in mols\n",
    "]\n",
    "maccs_df = pd.DataFrame(maccs_mat, columns=[f\"MACCS_{i}\" for i in range(maccs_bits)])\n",
    "\n",
    "# ---------- combine & clean ----------\n",
    "combined_df = pd.concat(\n",
    "    [pd.Series(smiles_valid, name=\"smiles\"), mold2_df, ecfp_df, maccs_df],\n",
    "    axis=1\n",
    ").drop_duplicates()\n",
    "\n",
    "combined_df.replace([np.inf, -np.inf], np.nan, inplace=True)\n",
    "combined_df.dropna(inplace=True)\n",
    "\n",
    "# ---------- save ----------\n",
    "combined_df.to_csv(output_path, index=False)\n",
    "print(f\"✅ Saved {len(combined_df)} molecules with MolD2 + ECFP4 + MACCS → {output_path}\")\n"
   ]
  },
  {
   "cell_type": "markdown",
   "id": "9c08f79e",
   "metadata": {},
   "source": [
    "### Final Dataset"
   ]
  },
  {
   "cell_type": "code",
   "execution_count": 3,
   "id": "0b38e66a",
   "metadata": {},
   "outputs": [
    {
     "name": "stdout",
     "output_type": "stream",
     "text": [
      "✅ Saved 62134 to Dataset/final/dataset.csv\n"
     ]
    }
   ],
   "source": [
    "import pandas as pd\n",
    "\n",
    "# ---------- Paths ----------\n",
    "negative_path = \"Dataset/negatives/dataset.csv\"\n",
    "positive_path = \"Dataset/positives/dataset.csv\"\n",
    "combined_path = \"Dataset/final/dataset.csv\"\n",
    "\n",
    "# ---------- Load ----------\n",
    "pos_df = pd.read_csv(positive_path)\n",
    "pos_df[\"Is Drug\"] = 1\n",
    "\n",
    "neg_df = pd.read_csv(negative_path)\n",
    "neg_df[\"Is Drug\"] = 0\n",
    "\n",
    "# ---------- Combine and de-duplicate (keep drugs on conflict) ----------\n",
    "combined_df = pd.concat([pos_df, neg_df], ignore_index=True)\n",
    "\n",
    "# Sort so drugs come before non-drugs for duplicates\n",
    "combined_df.sort_values(by=\"Is Drug\", ascending=False, inplace=True)\n",
    "\n",
    "# Drop duplicates based on all feature columns (except Is Drug)\n",
    "feature_cols = combined_df.columns.difference([\"Is Drug\"])\n",
    "combined_df = combined_df.drop_duplicates(subset=feature_cols, keep=\"first\")\n",
    "\n",
    "# Shuffle for training\n",
    "combined_df = combined_df.sample(frac=1, random_state=42).reset_index(drop=True)\n",
    "\n",
    "# ---------- Save ----------\n",
    "combined_df.to_csv(combined_path, index=False)\n",
    "print(f\"✅ Saved {len(combined_df)} to {combined_path}\")\n"
   ]
  }
 ],
 "metadata": {
  "kernelspec": {
   "display_name": "drug-detection",
   "language": "python",
   "name": "python3"
  },
  "language_info": {
   "codemirror_mode": {
    "name": "ipython",
    "version": 3
   },
   "file_extension": ".py",
   "mimetype": "text/x-python",
   "name": "python",
   "nbconvert_exporter": "python",
   "pygments_lexer": "ipython3",
   "version": "3.10.18"
  }
 },
 "nbformat": 4,
 "nbformat_minor": 5
}
